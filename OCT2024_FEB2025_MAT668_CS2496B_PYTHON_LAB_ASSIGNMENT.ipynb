{
  "nbformat": 4,
  "nbformat_minor": 0,
  "metadata": {
    "colab": {
      "provenance": [],
      "include_colab_link": true
    },
    "kernelspec": {
      "name": "python3",
      "display_name": "Python 3"
    },
    "language_info": {
      "name": "python"
    }
  },
  "cells": [
    {
      "cell_type": "markdown",
      "metadata": {
        "id": "view-in-github",
        "colab_type": "text"
      },
      "source": [
        "<a href=\"https://colab.research.google.com/github/Adibah253/AdibahShuib/blob/main/OCT2024_FEB2025_MAT668_CS2496B_PYTHON_LAB_ASSIGNMENT.ipynb\" target=\"_parent\"><img src=\"https://colab.research.google.com/assets/colab-badge.svg\" alt=\"Open In Colab\"/></a>"
      ]
    },
    {
      "cell_type": "code",
      "execution_count": null,
      "metadata": {
        "id": "nRHXdtVMYiWv"
      },
      "outputs": [],
      "source": [
        "#GRAPH THEORY WITH APPLICATIONS (MAT668)\n",
        "#PYTHON LAB ASSIGNMENT - CS2496B\n",
        "#SEMESTER: OCTOBER 2023 – FEBRUARY 2024\n",
        "#COLLEGE OF COMPUTING, INFORMATICS AND MATHEMATICS (KPPIM)\n",
        "#UNIVERSITI TEKNOLGI MARA (UiTM), SHAH ALAM, SELANGOR, MALAYSIA\n",
        "#LECTURER:  ASSOC. PROF. TS DR ADIBAH SHUIB"
      ]
    },
    {
      "cell_type": "code",
      "source": [
        "###QUESTION 1 (4 marks)\n",
        "WRONG FILE"
      ],
      "metadata": {
        "id": "udn9uArgad5S"
      },
      "execution_count": null,
      "outputs": []
    }
  ]
}