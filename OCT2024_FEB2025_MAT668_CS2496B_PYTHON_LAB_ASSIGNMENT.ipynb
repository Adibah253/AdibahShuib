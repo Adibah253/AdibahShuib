{
  "nbformat": 4,
  "nbformat_minor": 0,
  "metadata": {
    "colab": {
      "provenance": [],
      "include_colab_link": true
    },
    "kernelspec": {
      "name": "python3",
      "display_name": "Python 3"
    },
    "language_info": {
      "name": "python"
    }
  },
  "cells": [
    {
      "cell_type": "markdown",
      "metadata": {
        "id": "view-in-github",
        "colab_type": "text"
      },
      "source": [
        "<a href=\"https://colab.research.google.com/github/Adibah253/AdibahShuib/blob/main/OCT2024_FEB2025_MAT668_CS2496B_PYTHON_LAB_ASSIGNMENT.ipynb\" target=\"_parent\"><img src=\"https://colab.research.google.com/assets/colab-badge.svg\" alt=\"Open In Colab\"/></a>"
      ]
    },
    {
      "cell_type": "code",
      "execution_count": 1,
      "metadata": {
        "id": "nRHXdtVMYiWv"
      },
      "outputs": [],
      "source": [
        "#GRAPH THEORY WITH APPLICATIONS (MAT668)\n",
        "#PYTHON LAB ASSIGNMENT - CS2496B\n",
        "#SEMESTER: OCTOBER 2023 – FEBRUARY 2024\n",
        "#COLLEGE OF COMPUTING, INFORMATICS AND MATHEMATICS (KPPIM)\n",
        "#UNIVERSITI TEKNOLGI MARA (UiTM), SHAH ALAM, SELANGOR, MALAYSIA\n",
        "#LECTURER:  ASSOC. PROF. TS DR ADIBAH SHUIB"
      ]
    },
    {
      "cell_type": "code",
      "source": [
        "QUESTION 1 (4 marks)\n",
        "Assign your full name (Firstname Lastname) to a variable called \"Name\".\n",
        "Assign your Student ID to a variable called \"SID\".\n",
        "Assign your group (CS2496A or CS2496B) to a variable called \"Group\".\n",
        "Assign today's date and day to a variable called \"Date_Day\".\n",
        "Print each of these information in separate rows.\n",
        "• [HINT for date and day:\n",
        "• [HINT2: print(\"Date & Day:\", Date_Day)]\n",
        "\n",
        "Expected Output:\\\n",
        "  Name: Firstname Lastname\n",
        "  SID: 2021XXXXXX\n",
        "  Group: CS2496X\n",
        "  Date & Day:"
      ],
      "metadata": {
        "id": "udn9uArgad5S"
      },
      "execution_count": null,
      "outputs": []
    }
  ]
}